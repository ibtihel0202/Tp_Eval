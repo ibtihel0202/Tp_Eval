{
 "cells": [
  {
   "cell_type": "code",
   "execution_count": 2,
   "metadata": {},
   "outputs": [],
   "source": [
    "def moyenne(tab,n):\n",
    "    somme=0\n",
    "    for j in tab:\n",
    "        somme=somme+j\n",
    "    return somme/n    "
   ]
  },
  {
   "cell_type": "code",
   "execution_count": 3,
   "metadata": {},
   "outputs": [],
   "source": [
    "def variance(tab,n,moy):\n",
    "    teta=0\n",
    "    for i in tab:\n",
    "        teta=teta+(i-moy)**2\n",
    "    return teta/n    "
   ]
  },
  {
   "cell_type": "code",
   "execution_count": 4,
   "metadata": {},
   "outputs": [],
   "source": [
    "import random\n",
    "def table_aléatoire(n):\n",
    "    tab=[]\n",
    "    for i in range(n+1):\n",
    "        tab.append(random.uniform(0,1))\n",
    "    return tab    "
   ]
  },
  {
   "cell_type": "code",
   "execution_count": 6,
   "metadata": {},
   "outputs": [
    {
     "name": "stdout",
     "output_type": "stream",
     "text": [
      "Pour N =  10 La moyenne est : 0.41354620574903594 , La variance est:  0.04554943702984861\n",
      "Pour N =  100 La moyenne est : 0.5004150152005625 , La variance est:  0.08881847168208495\n",
      "Pour N =  1000 La moyenne est : 0.49460894766450536 , La variance est:  0.08667055382417373\n",
      "Pour N =  10000 La moyenne est : 0.5048792553436202 , La variance est:  0.08401718978699607\n",
      "Pour N =  100000 La moyenne est : 0.4997020720038073 , La variance est:  0.08303750005566225\n"
     ]
    }
   ],
   "source": [
    "n=[10,100,1000,10000,100000]\n",
    "vartable=[]\n",
    "moy=[]\n",
    "for i in n:\n",
    "    tab=table_aléatoire(i)\n",
    "    moy.append(moyenne(tab,i))\n",
    "    vartable.append(variance(tab,i,moyenne(tab,i)))\n",
    "for i in range(len(n)):\n",
    "    print('Pour N = ',n[i],'La moyenne est :',moy[i],', La variance est: ',vartable[i])"
   ]
  },
  {
   "cell_type": "markdown",
   "metadata": {},
   "source": [
    "# Traçage de graphe N ->Xn "
   ]
  },
  {
   "cell_type": "code",
   "execution_count": 7,
   "metadata": {},
   "outputs": [
    {
     "data": {
      "image/png": "[encoded data removed]",
      "text/plain": [
       "<Figure size 432x288 with 1 Axes>"
      ]
     },
     "metadata": {
      "needs_background": "light"
     },
     "output_type": "display_data"
    }
   ],
   "source": [
    "import matplotlib.pyplot as plt\n",
    "\n",
    "plt.plot(n,moy,'r*')\n",
    "plt.xlabel('Valeurs de N')\n",
    "plt.ylabel('la moyenne empirique')\n",
    "plt.show()"
   ]
  },
  {
   "cell_type": "markdown",
   "metadata": {},
   "source": [
    "# Traçage de graphe N->teta"
   ]
  },
  {
   "cell_type": "code",
   "execution_count": 8,
   "metadata": {},
   "outputs": [
    {
     "data": {
      "image/png": "[encoded data removed]",
      "text/plain": [
       "<Figure size 432x288 with 1 Axes>"
      ]
     },
     "metadata": {
      "needs_background": "light"
     },
     "output_type": "display_data"
    }
   ],
   "source": [
    "import matplotlib.pyplot as plt\n",
    "\n",
    "plt.plot(n,vartable,'b*')\n",
    "plt.xlabel('Valeurs de N')\n",
    "plt.ylabel('la variance empirique')\n",
    "plt.show()"
   ]
  },
  {
   "cell_type": "code",
   "execution_count": null,
   "metadata": {},
   "outputs": [],
   "source": []
  },
  {
   "cell_type": "code",
   "execution_count": null,
   "metadata": {},
   "outputs": [],
   "source": []
  }
 ],
 "metadata": {
  "kernelspec": {
   "display_name": "Python 3",
   "language": "python",
   "name": "python3"
  },
  "language_info": {
   "codemirror_mode": {
    "name": "ipython",
    "version": 3
   },
   "file_extension": ".py",
   "mimetype": "text/x-python",
   "name": "python",
   "nbconvert_exporter": "python",
   "pygments_lexer": "ipython3",
   "version": "3.8.3"
  }
 },
 "nbformat": 4,
 "nbformat_minor": 4
}
