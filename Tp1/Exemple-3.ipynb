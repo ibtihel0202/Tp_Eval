{
 "cells": [
  {
   "cell_type": "markdown",
   "metadata": {},
   "source": [
    "On a fixer a=1 , b=8 , on a varier N entre 10,100,1000,10000,100000"
   ]
  },
  {
   "cell_type": "code",
   "execution_count": 2,
   "metadata": {},
   "outputs": [],
   "source": [
    "def moyenne(tab,n):\n",
    "    somme=0\n",
    "    for j in tab:\n",
    "        somme=somme+j\n",
    "    return somme/n"
   ]
  },
  {
   "cell_type": "code",
   "execution_count": 3,
   "metadata": {},
   "outputs": [],
   "source": [
    "def variance(tab,n,moy):\n",
    "    teta=0\n",
    "    for i in tab:\n",
    "        teta=teta+(i-moy)**2\n",
    "    return teta/n "
   ]
  },
  {
   "cell_type": "code",
   "execution_count": 4,
   "metadata": {},
   "outputs": [],
   "source": [
    "import random\n",
    "def table_aléatoire(n):\n",
    "    tab=[]\n",
    "    for i in range(n+1):\n",
    "        tab.append(random.randint(1,8))\n",
    "    return tab  "
   ]
  },
  {
   "cell_type": "code",
   "execution_count": 7,
   "metadata": {},
   "outputs": [
    {
     "name": "stdout",
     "output_type": "stream",
     "text": [
      "Pour N =  10 La moyenne est : 4.3 , La variance est:  8.459\n",
      "Pour N =  100 La moyenne est : 4.54 , La variance est:  5.274516\n",
      "Pour N =  1000 La moyenne est : 4.533 , La variance est:  5.071459089000005\n",
      "Pour N =  10000 La moyenne est : 4.5233 , La variance est:  5.259103134289101\n",
      "Pour N =  100000 La moyenne est : 4.50305 , La variance est:  5.255653472100064\n"
     ]
    }
   ],
   "source": [
    "n=[10,100,1000,10000,100000]\n",
    "vartable=[]\n",
    "moy=[]\n",
    "for i in n:\n",
    "    tab=table_aléatoire(i)\n",
    "    moy.append(moyenne(tab,i))\n",
    "    vartable.append(variance(tab,i,moyenne(tab,i)))\n",
    "for i in range(len(n)):\n",
    "    print('Pour N = ',n[i],'La moyenne est :',moy[i],', La variance est: ',vartable[i])"
   ]
  },
  {
   "cell_type": "markdown",
   "metadata": {},
   "source": [
    "# Traçage de Graphe N->Xn\n"
   ]
  },
  {
   "cell_type": "code",
   "execution_count": 8,
   "metadata": {},
   "outputs": [
    {
     "data": {
      "image/png": "[encoded data removed]",
      "text/plain": [
       "<Figure size 432x288 with 1 Axes>"
      ]
     },
     "metadata": {
      "needs_background": "light"
     },
     "output_type": "display_data"
    }
   ],
   "source": [
    "import matplotlib.pyplot as plt\n",
    "\n",
    "plt.plot(n,moy,'r*')\n",
    "plt.xlabel('Valeurs de N')\n",
    "plt.ylabel('la moyenne empirique')\n",
    "plt.show()"
   ]
  },
  {
   "cell_type": "markdown",
   "metadata": {},
   "source": [
    "# Traçage de graphe N->teta\n"
   ]
  },
  {
   "cell_type": "code",
   "execution_count": 9,
   "metadata": {},
   "outputs": [
    {
     "data": {
      "image/png": "[encoded data removed]",
      "text/plain": [
       "<Figure size 432x288 with 1 Axes>"
      ]
     },
     "metadata": {
      "needs_background": "light"
     },
     "output_type": "display_data"
    }
   ],
   "source": [
    "import matplotlib.pyplot as plt\n",
    "\n",
    "plt.plot(n,vartable,'b*')\n",
    "plt.xlabel('Valeurs de N')\n",
    "plt.ylabel('la variance empirique')\n",
    "plt.show()"
   ]
  },
  {
   "cell_type": "code",
   "execution_count": null,
   "metadata": {},
   "outputs": [],
   "source": []
  }
 ],
 "metadata": {
  "kernelspec": {
   "display_name": "Python 3",
   "language": "python",
   "name": "python3"
  },
  "language_info": {
   "codemirror_mode": {
    "name": "ipython",
    "version": 3
   },
   "file_extension": ".py",
   "mimetype": "text/x-python",
   "name": "python",
   "nbconvert_exporter": "python",
   "pygments_lexer": "ipython3",
   "version": "3.8.3"
  }
 },
 "nbformat": 4,
 "nbformat_minor": 4
}
