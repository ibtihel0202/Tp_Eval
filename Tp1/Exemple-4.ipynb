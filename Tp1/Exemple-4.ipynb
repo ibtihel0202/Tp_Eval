{
 "cells": [
  {
   "cell_type": "code",
   "execution_count": 1,
   "metadata": {},
   "outputs": [],
   "source": [
    "def moyenne(tab,n):\n",
    "    somme=0\n",
    "    for j in tab:\n",
    "        somme=somme+j\n",
    "    return somme/n"
   ]
  },
  {
   "cell_type": "code",
   "execution_count": 2,
   "metadata": {},
   "outputs": [],
   "source": [
    "def variance(tab,n,moy):\n",
    "    teta=0\n",
    "    for i in tab:\n",
    "        teta=teta+(i-moy)**2\n",
    "    return teta/n "
   ]
  },
  {
   "cell_type": "code",
   "execution_count": 14,
   "metadata": {},
   "outputs": [],
   "source": [
    "import numpy as np\n",
    "import random\n",
    "def table_aléatoire(n):\n",
    "    tab=[]\n",
    "    p=np.random.uniform(0, 1,n)\n",
    "    for i in p:\n",
    "        if i <0.3:\n",
    "            tab.append(0)\n",
    "        elif i <0.5: \n",
    "            tab.append(2)\n",
    "        else:     \n",
    "            tab.append(6)\n",
    "    return tab  "
   ]
  },
  {
   "cell_type": "code",
   "execution_count": 17,
   "metadata": {},
   "outputs": [
    {
     "name": "stdout",
     "output_type": "stream",
     "text": [
      "Pour N =  10 La moyenne est : 3.2 , La variance est:  5.76\n",
      "Pour N =  100 La moyenne est : 3.4 , La variance est:  7.479999999999994\n",
      "Pour N =  1000 La moyenne est : 3.462 , La variance est:  7.130555999999993\n",
      "Pour N =  10000 La moyenne est : 3.3906 , La variance est:  7.246631639999291\n",
      "Pour N =  100000 La moyenne est : 3.3997 , La variance est:  7.243119909998218\n"
     ]
    }
   ],
   "source": [
    "n=[10,100,1000,10000,100000]\n",
    "vartable=[]\n",
    "moy=[]\n",
    "for i in n:\n",
    "    p=table_aléatoire(i)\n",
    "    moy.append(moyenne(p,i))\n",
    "    vartable.append(variance(p,i,moyenne(p,i)))\n",
    "for i in range(len(n)):\n",
    "    print('Pour N = ',n[i],'La moyenne est :',moy[i],', La variance est: ',vartable[i])"
   ]
  },
  {
   "cell_type": "markdown",
   "metadata": {},
   "source": [
    "# Traçage de graphe N->teta"
   ]
  },
  {
   "cell_type": "code",
   "execution_count": 18,
   "metadata": {},
   "outputs": [
    {
     "data": {
      "image/png": "[encoded data removed]",
      "text/plain": [
       "<Figure size 432x288 with 1 Axes>"
      ]
     },
     "metadata": {
      "needs_background": "light"
     },
     "output_type": "display_data"
    }
   ],
   "source": [
    "import matplotlib.pyplot as plt\n",
    "\n",
    "plt.plot(n,moy,'r*')\n",
    "plt.xlabel('Valeurs de N')\n",
    "plt.ylabel('la moyenne empirique')\n",
    "plt.show()"
   ]
  },
  {
   "cell_type": "markdown",
   "metadata": {},
   "source": [
    "# Traçage de graphe N->teta"
   ]
  },
  {
   "cell_type": "code",
   "execution_count": 19,
   "metadata": {},
   "outputs": [
    {
     "data": {
      "image/png": "[encoded data removed]",
      "text/plain": [
       "<Figure size 432x288 with 1 Axes>"
      ]
     },
     "metadata": {
      "needs_background": "light"
     },
     "output_type": "display_data"
    }
   ],
   "source": [
    "import matplotlib.pyplot as plt\n",
    "\n",
    "plt.plot(n,vartable,'b*')\n",
    "plt.xlabel('Valeurs de N')\n",
    "plt.ylabel('la variance empirique')\n",
    "plt.show()"
   ]
  },
  {
   "cell_type": "code",
   "execution_count": null,
   "metadata": {},
   "outputs": [],
   "source": []
  }
 ],
 "metadata": {
  "kernelspec": {
   "display_name": "Python 3",
   "language": "python",
   "name": "python3"
  },
  "language_info": {
   "codemirror_mode": {
    "name": "ipython",
    "version": 3
   },
   "file_extension": ".py",
   "mimetype": "text/x-python",
   "name": "python",
   "nbconvert_exporter": "python",
   "pygments_lexer": "ipython3",
   "version": "3.8.3"
  }
 },
 "nbformat": 4,
 "nbformat_minor": 4
}
