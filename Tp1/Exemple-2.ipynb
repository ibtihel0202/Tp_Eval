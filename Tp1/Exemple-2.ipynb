{
 "cells": [
  {
   "cell_type": "code",
   "execution_count": 37,
   "metadata": {},
   "outputs": [],
   "source": [
    "def moyenne(tab,n,λ):\n",
    "    tab=[]\n",
    "    for i in range(n) :\n",
    "        tab.append(f(random.randint(0,1),λ))\n",
    "    somme=0\n",
    "    for j in tab:\n",
    "        somme=somme+j\n",
    "    return somme/n"
   ]
  },
  {
   "cell_type": "code",
   "execution_count": 38,
   "metadata": {},
   "outputs": [],
   "source": [
    "def variance(tab,n,moy,λ):\n",
    "    tab=[]\n",
    "    for i in range(n) :\n",
    "        tab.append(f(random.randint(0,1),λ)) \n",
    "    teta=0\n",
    "    for i in tab:\n",
    "        teta=teta+(i-moy)**2\n",
    "    return teta/n "
   ]
  },
  {
   "cell_type": "code",
   "execution_count": 39,
   "metadata": {},
   "outputs": [],
   "source": [
    "import numpy as np\n",
    "import random \n",
    "import math\n",
    "def f(x,λ):\n",
    "    return 1-math.exp(-λ*x)\n",
    "def table_aléatoire(n,λ):\n",
    "    tab=[]\n",
    "    for i in range(n) :\n",
    "        tab.append(f(random.randint(0,1),λ))\n",
    "    return tab\n"
   ]
  },
  {
   "cell_type": "code",
   "execution_count": 79,
   "metadata": {},
   "outputs": [
    {
     "name": "stdout",
     "output_type": "stream",
     "text": [
      "Pour N =  10 La moyenne est : 0.6052653017343712 , La variance est:  0.21681707100049757\n",
      "Pour N =  100 La moyenne est : 0.4063924168787917 , La variance est:  0.1943129543207907\n",
      "Pour N =  1000 La moyenne est : 0.42455037593082734 , La variance est:  0.18683276537127352\n",
      "Pour N =  10000 La moyenne est : 0.430603028948173 , La variance est:  0.18690837471742683\n",
      "Pour N =  100000 La moyenne est : 0.4320816056134703 , La variance est:  0.18690972945048404\n"
     ]
    }
   ],
   "source": [
    "n=[10,100,1000,10000,100000]\n",
    "λ=2\n",
    "vartable=[]\n",
    "moy=[]\n",
    "for i in n:\n",
    "    tab=table_aléatoire(i,λ)\n",
    "    moy.append(moyenne(tab,i,λ))\n",
    "    vartable.append(variance(tab,i,moyenne(tab,i,λ),λ))\n",
    "for i in range(len(n)):\n",
    "    print('Pour N = ',n[i],'La moyenne est :',moy[i],', La variance est: ',vartable[i])"
   ]
  },
  {
   "cell_type": "markdown",
   "metadata": {},
   "source": [
    "# Traçage de graphe N ->Xn "
   ]
  },
  {
   "cell_type": "code",
   "execution_count": 67,
   "metadata": {},
   "outputs": [
    {
     "data": {
      "image/png": "[encoded data removed]",
      "text/plain": [
       "<Figure size 432x288 with 1 Axes>"
      ]
     },
     "metadata": {
      "needs_background": "light"
     },
     "output_type": "display_data"
    }
   ],
   "source": [
    "import matplotlib.pyplot as plt\n",
    "\n",
    "plt.plot(n,moy,'r*')\n",
    "plt.xlabel('Valeurs de N')\n",
    "plt.ylabel('la moyenne empirique')\n",
    "plt.show()"
   ]
  },
  {
   "cell_type": "markdown",
   "metadata": {},
   "source": [
    "# Traçage de graphe N->teta"
   ]
  },
  {
   "cell_type": "code",
   "execution_count": 68,
   "metadata": {},
   "outputs": [
    {
     "data": {
      "image/png": "[encoded data removed]",
      "text/plain": [
       "<Figure size 432x288 with 1 Axes>"
      ]
     },
     "metadata": {
      "needs_background": "light"
     },
     "output_type": "display_data"
    }
   ],
   "source": [
    "import matplotlib.pyplot as plt\n",
    "\n",
    "plt.plot(n,vartable,'b*')\n",
    "plt.xlabel('Valeurs de N')\n",
    "plt.ylabel('la variance empirique')\n",
    "plt.show()"
   ]
  },
  {
   "cell_type": "code",
   "execution_count": null,
   "metadata": {},
   "outputs": [],
   "source": []
  }
 ],
 "metadata": {
  "kernelspec": {
   "display_name": "Python 3",
   "language": "python",
   "name": "python3"
  },
  "language_info": {
   "codemirror_mode": {
    "name": "ipython",
    "version": 3
   },
   "file_extension": ".py",
   "mimetype": "text/x-python",
   "name": "python",
   "nbconvert_exporter": "python",
   "pygments_lexer": "ipython3",
   "version": "3.8.3"
  }
 },
 "nbformat": 4,
 "nbformat_minor": 4
}
